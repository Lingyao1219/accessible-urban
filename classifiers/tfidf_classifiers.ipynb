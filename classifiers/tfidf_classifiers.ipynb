{
 "cells": [
  {
   "cell_type": "code",
   "execution_count": 1,
   "metadata": {},
   "outputs": [],
   "source": [
    "import pandas as pd\n",
    "import matplotlib.pyplot as plt\n",
    "\n",
    "from sklearn.feature_extraction.text import CountVectorizer, TfidfVectorizer\n",
    "from sklearn.metrics import accuracy_score, confusion_matrix\n",
    "from sklearn.metrics import classification_report\n",
    "from sklearn.pipeline import Pipeline\n",
    "from sklearn.model_selection import GridSearchCV\n",
    "from sklearn.feature_extraction.text import TfidfTransformer"
   ]
  },
  {
   "cell_type": "code",
   "execution_count": 2,
   "metadata": {},
   "outputs": [],
   "source": [
    "import warnings\n",
    "warnings.filterwarnings('ignore')"
   ]
  },
  {
   "cell_type": "code",
   "execution_count": 3,
   "metadata": {},
   "outputs": [],
   "source": [
    "train_df = pd.read_json('train.jsonl', lines=True)\n",
    "test_df = pd.read_json('test.jsonl', lines=True)"
   ]
  },
  {
   "cell_type": "code",
   "execution_count": 4,
   "metadata": {},
   "outputs": [
    {
     "data": {
      "text/html": [
       "<div>\n",
       "<style scoped>\n",
       "    .dataframe tbody tr th:only-of-type {\n",
       "        vertical-align: middle;\n",
       "    }\n",
       "\n",
       "    .dataframe tbody tr th {\n",
       "        vertical-align: top;\n",
       "    }\n",
       "\n",
       "    .dataframe thead th {\n",
       "        text-align: right;\n",
       "    }\n",
       "</style>\n",
       "<table border=\"1\" class=\"dataframe\">\n",
       "  <thead>\n",
       "    <tr style=\"text-align: right;\">\n",
       "      <th></th>\n",
       "      <th>text</th>\n",
       "      <th>target_text</th>\n",
       "      <th>annotation</th>\n",
       "    </tr>\n",
       "  </thead>\n",
       "  <tbody>\n",
       "    <tr>\n",
       "      <th>0</th>\n",
       "      <td>Do not stay here. They will rob you upon moveo...</td>\n",
       "      <td>They will rob you blind and send you the bill.</td>\n",
       "      <td>2</td>\n",
       "    </tr>\n",
       "    <tr>\n",
       "      <th>1</th>\n",
       "      <td>Love the place. Im disabled so Im always dropp...</td>\n",
       "      <td>Im disabled so Im always dropping batteries an...</td>\n",
       "      <td>2</td>\n",
       "    </tr>\n",
       "    <tr>\n",
       "      <th>2</th>\n",
       "      <td>Very friendly staff.  Verg accommidating.  Cha...</td>\n",
       "      <td>Changed our room to handicappedat the last min.</td>\n",
       "      <td>0</td>\n",
       "    </tr>\n",
       "    <tr>\n",
       "      <th>3</th>\n",
       "      <td>Truly one stop shopping. The could use some mo...</td>\n",
       "      <td>The could use some more handicapped carts, and...</td>\n",
       "      <td>-1</td>\n",
       "    </tr>\n",
       "    <tr>\n",
       "      <th>4</th>\n",
       "      <td>It was a very clean and accessible establishment</td>\n",
       "      <td>It was a very clean and accessible establishment</td>\n",
       "      <td>2</td>\n",
       "    </tr>\n",
       "  </tbody>\n",
       "</table>\n",
       "</div>"
      ],
      "text/plain": [
       "                                                text  \\\n",
       "0  Do not stay here. They will rob you upon moveo...   \n",
       "1  Love the place. Im disabled so Im always dropp...   \n",
       "2  Very friendly staff.  Verg accommidating.  Cha...   \n",
       "3  Truly one stop shopping. The could use some mo...   \n",
       "4   It was a very clean and accessible establishment   \n",
       "\n",
       "                                         target_text  annotation  \n",
       "0     They will rob you blind and send you the bill.           2  \n",
       "1  Im disabled so Im always dropping batteries an...           2  \n",
       "2    Changed our room to handicappedat the last min.           0  \n",
       "3  The could use some more handicapped carts, and...          -1  \n",
       "4   It was a very clean and accessible establishment           2  "
      ]
     },
     "execution_count": 4,
     "metadata": {},
     "output_type": "execute_result"
    }
   ],
   "source": [
    "value_map = {\n",
    "    'positive': 1, \n",
    "    'negative': -1, \n",
    "    'neutral': 0, \n",
    "    'unrelated': 2\n",
    "    }\n",
    "\n",
    "train_df['annotation'] = train_df['annotation'].str.lower()\n",
    "test_df['annotation'] = test_df['annotation'].str.lower()\n",
    "\n",
    "train_df['annotation'] = train_df['annotation'].map(value_map)\n",
    "test_df['annotation'] = test_df['annotation'].map(value_map)\n",
    "train_df.head(5)"
   ]
  },
  {
   "cell_type": "code",
   "execution_count": 5,
   "metadata": {},
   "outputs": [
    {
     "data": {
      "text/plain": [
       "<Axes: xlabel='annotation'>"
      ]
     },
     "execution_count": 5,
     "metadata": {},
     "output_type": "execute_result"
    },
    {
     "data": {
      "image/png": "[encoded data removed]",
      "text/plain": [
       "<Figure size 600x300 with 1 Axes>"
      ]
     },
     "metadata": {},
     "output_type": "display_data"
    }
   ],
   "source": [
    "plt.figure(figsize=(6,3))\n",
    "train_df['annotation'].value_counts().plot(kind='bar')"
   ]
  },
  {
   "cell_type": "code",
   "execution_count": 13,
   "metadata": {},
   "outputs": [
    {
     "data": {
      "text/plain": [
       "<Axes: xlabel='annotation'>"
      ]
     },
     "execution_count": 13,
     "metadata": {},
     "output_type": "execute_result"
    },
    {
     "data": {
      "image/png": "[encoded data removed]",
      "text/plain": [
       "<Figure size 600x300 with 1 Axes>"
      ]
     },
     "metadata": {},
     "output_type": "display_data"
    }
   ],
   "source": [
    "plt.figure(figsize=(6,3))\n",
    "test_df['annotation'].value_counts().plot(kind='bar')"
   ]
  },
  {
   "cell_type": "code",
   "execution_count": 7,
   "metadata": {},
   "outputs": [],
   "source": [
    "# Split samples for training set (80%) and testing set (20%)\n",
    "\n",
    "labels = ['negative', 'neutral', 'positive', 'unrelated']\n",
    "\n",
    "X_train = train_df['target_text']\n",
    "y_train = train_df['annotation']\n",
    "\n",
    "X_test = test_df['target_text']\n",
    "y_test = test_df['annotation']"
   ]
  },
  {
   "cell_type": "markdown",
   "metadata": {},
   "source": [
    "### 1. TF-IDF + RF"
   ]
  },
  {
   "cell_type": "code",
   "execution_count": 8,
   "metadata": {},
   "outputs": [
    {
     "name": "stdout",
     "output_type": "stream",
     "text": [
      "best parameters are: {'clf__max_depth': 80, 'clf__min_samples_leaf': 2, 'clf__n_estimators': 400}\n",
      "train accuracy: 93.35%\n",
      "test accuracy: 71.65%\n",
      "              precision    recall  f1-score   support\n",
      "\n",
      "    negative       0.56      0.76      0.64       127\n",
      "     neutral       0.20      0.09      0.12        23\n",
      "    positive       0.62      0.59      0.60       129\n",
      "   unrelated       0.89      0.80      0.84       289\n",
      "\n",
      "    accuracy                           0.72       568\n",
      "   macro avg       0.57      0.56      0.55       568\n",
      "weighted avg       0.73      0.72      0.72       568\n",
      "\n"
     ]
    }
   ],
   "source": [
    "from sklearn.ensemble import RandomForestClassifier\n",
    "\n",
    "# Define the pipeline with RandomForestClassifier\n",
    "pipeline = Pipeline(steps=[\n",
    "    ('vect', CountVectorizer()),\n",
    "    ('tfidf', TfidfTransformer()),\n",
    "    ('clf', RandomForestClassifier(class_weight='balanced', random_state=66))\n",
    "])\n",
    "\n",
    "# Define the parameters grid\n",
    "parameters = [{\n",
    "    'clf__n_estimators': [100, 200, 300, 400],  # Number of trees\n",
    "    'clf__max_depth': [10, 20, 40, 80, 100, 120],  # Maximum depth of trees\n",
    "    'clf__min_samples_leaf': [1, 2, 4]  # Minimum number of samples required to be at a leaf node\n",
    "}]\n",
    "\n",
    "# Perform grid search\n",
    "rf_cv = GridSearchCV(pipeline, parameters, cv=10)\n",
    "rf_cv.fit(X_train, y_train)\n",
    "\n",
    "# Get the best parameters and accuracy\n",
    "best_params = rf_cv.best_params_\n",
    "best_accuracy = rf_cv.best_score_\n",
    "print(\"best parameters are: %s\" % best_params)\n",
    "\n",
    "# Train the final model using the best parameters\n",
    "rf = Pipeline([\n",
    "    ('vect', CountVectorizer()),\n",
    "    ('tfidf', TfidfTransformer()),\n",
    "    ('clf', RandomForestClassifier(n_estimators=best_params['clf__n_estimators'], \n",
    "                                   max_depth=best_params['clf__max_depth'], \n",
    "                                   min_samples_leaf=best_params['clf__min_samples_leaf'], \n",
    "                                   class_weight='balanced', \n",
    "                                   random_state=66))\n",
    "])\n",
    "rf = rf.fit(X_train, y_train)\n",
    "\n",
    "# Predict on the training and testing set\n",
    "y_trad = rf.predict(X_train)\n",
    "y_pred = rf.predict(X_test)\n",
    "\n",
    "# Print accuracy and classification report\n",
    "print(\"train accuracy: %.2f%%\" % (accuracy_score(y_trad, y_train) * 100))\n",
    "print(\"test accuracy: %.2f%%\" % (accuracy_score(y_pred, y_test) * 100))\n",
    "print(classification_report(y_test, y_pred, target_names=labels))"
   ]
  },
  {
   "cell_type": "markdown",
   "metadata": {},
   "source": [
    "### 2. TF-IDF + SGD"
   ]
  },
  {
   "cell_type": "code",
   "execution_count": 9,
   "metadata": {},
   "outputs": [
    {
     "name": "stdout",
     "output_type": "stream",
     "text": [
      "best parameters are: {'clf__alpha': 0.001, 'clf__max_iter': 500, 'clf__penalty': 'l2'}\n",
      "train accuracy: 91.73%\n",
      "test accuracy: 76.23%\n",
      "              precision    recall  f1-score   support\n",
      "\n",
      "    negative       0.66      0.76      0.71       127\n",
      "     neutral       0.24      0.30      0.27        23\n",
      "    positive       0.74      0.62      0.68       129\n",
      "   unrelated       0.88      0.86      0.87       289\n",
      "\n",
      "    accuracy                           0.76       568\n",
      "   macro avg       0.63      0.64      0.63       568\n",
      "weighted avg       0.77      0.76      0.76       568\n",
      "\n"
     ]
    }
   ],
   "source": [
    "from sklearn.linear_model import SGDClassifier\n",
    "\n",
    "# Define the pipeline with SGDClassifier\n",
    "pipeline = Pipeline(steps=[\n",
    "    ('vect', CountVectorizer()),\n",
    "    ('tfidf', TfidfTransformer()),\n",
    "    ('clf', SGDClassifier(loss='hinge', class_weight='balanced'))\n",
    "])\n",
    "\n",
    "# Define the parameters grid\n",
    "parameters = [{\n",
    "    'clf__alpha': [1e-4, 1e-3, 1e-2, 1e-1, 1, 10], # Regularization strength\n",
    "    'clf__max_iter': [500, 800, 1000, 2000, 3000], # Number of iterations\n",
    "    'clf__penalty': ['l2', 'l1', 'elasticnet'] # Type of regularization\n",
    "}]\n",
    "\n",
    "# Perform grid search\n",
    "sgd_cv = GridSearchCV(pipeline, parameters, cv=10)\n",
    "sgd_cv.fit(X_train, y_train)\n",
    "\n",
    "# Get the best parameters and accuracy\n",
    "best_params = sgd_cv.best_params_\n",
    "best_accuracy = sgd_cv.best_score_\n",
    "print(\"best parameters are: %s\" % best_params)\n",
    "\n",
    "# Train the final model using the best parameters\n",
    "sgd = Pipeline([\n",
    "    ('vect', CountVectorizer()),\n",
    "    ('tfidf', TfidfTransformer()),\n",
    "    ('clf', SGDClassifier(loss='hinge', \n",
    "                          alpha=best_params['clf__alpha'], \n",
    "                          max_iter=best_params['clf__max_iter'], \n",
    "                          penalty=best_params['clf__penalty'], \n",
    "                          class_weight='balanced'))\n",
    "])\n",
    "sgd = sgd.fit(X_train, y_train)\n",
    "\n",
    "# Predict on the training and testing set\n",
    "y_trad = sgd.predict(X_train)\n",
    "y_pred = sgd.predict(X_test)\n",
    "\n",
    "# Print accuracy and classification report\n",
    "print(\"train accuracy: %.2f%%\" % (accuracy_score(y_trad, y_train)*100))\n",
    "print(\"test accuracy: %.2f%%\" % (accuracy_score(y_pred, y_test)*100))\n",
    "print(classification_report(y_test, y_pred, target_names=labels))"
   ]
  },
  {
   "cell_type": "markdown",
   "metadata": {},
   "source": [
    "### 3. TF-IDF + LR"
   ]
  },
  {
   "cell_type": "code",
   "execution_count": 10,
   "metadata": {},
   "outputs": [
    {
     "name": "stdout",
     "output_type": "stream",
     "text": [
      "Best parameters are: {'clf__C': 5, 'clf__max_iter': 10, 'clf__solver': 'newton-cg'}\n",
      "Train accuracy: 97.71%\n",
      "Test accuracy: 75.35%\n",
      "              precision    recall  f1-score   support\n",
      "\n",
      "    negative       0.62      0.78      0.69       127\n",
      "     neutral       0.29      0.35      0.31        23\n",
      "    positive       0.72      0.67      0.70       129\n",
      "   unrelated       0.90      0.81      0.85       289\n",
      "\n",
      "    accuracy                           0.75       568\n",
      "   macro avg       0.63      0.65      0.64       568\n",
      "weighted avg       0.77      0.75      0.76       568\n",
      "\n"
     ]
    }
   ],
   "source": [
    "from sklearn.linear_model import LogisticRegression\n",
    "\n",
    "# Define the pipeline with LogisticRegression\n",
    "pipeline = Pipeline(steps=[\n",
    "    ('vect', CountVectorizer()),\n",
    "    ('tfidf', TfidfTransformer()),\n",
    "    ('clf', LogisticRegression(class_weight='balanced'))\n",
    "])\n",
    "\n",
    "# Define the parameters grid\n",
    "parameters = [{\n",
    "    'clf__C': [0.1, 0.5, 1, 2, 5, 10, 20],  # Regularization strength\n",
    "    'clf__max_iter': [10, 20, 50, 100, 200],  # Number of iterations\n",
    "    'clf__solver': ['sag', 'saga', 'lbfgs', 'newton-cg']  # Different solvers\n",
    "}]\n",
    "\n",
    "# Perform grid search\n",
    "lr_cv = GridSearchCV(pipeline, parameters, cv=10)\n",
    "lr_cv.fit(X_train, y_train)\n",
    "\n",
    "# Get the best parameters and accuracy\n",
    "best_params = lr_cv.best_params_\n",
    "best_accuracy = lr_cv.best_score_\n",
    "print(\"Best parameters are: %s\" % best_params)\n",
    "\n",
    "# Train the final model using the best parameters\n",
    "lr = Pipeline([\n",
    "    ('vect', CountVectorizer()),\n",
    "    ('tfidf', TfidfTransformer()),\n",
    "    ('clf', LogisticRegression(C=best_params['clf__C'], \n",
    "                               max_iter=best_params['clf__max_iter'], \n",
    "                               solver=best_params['clf__solver'], \n",
    "                               class_weight='balanced'))\n",
    "])\n",
    "lr = lr.fit(X_train, y_train)\n",
    "\n",
    "# Predict on the training and testing set\n",
    "y_trad = lr.predict(X_train)\n",
    "y_pred = lr.predict(X_test)\n",
    "\n",
    "# Print accuracy and classification report\n",
    "print(\"Train accuracy: %.2f%%\" % (accuracy_score(y_trad, y_train) * 100))\n",
    "print(\"Test accuracy: %.2f%%\" % (accuracy_score(y_pred, y_test) * 100))\n",
    "print(classification_report(y_test, y_pred, target_names=labels))"
   ]
  }
 ],
 "metadata": {
  "kernelspec": {
   "display_name": "Python 3 (ipykernel)",
   "language": "python",
   "name": "python3"
  },
  "language_info": {
   "codemirror_mode": {
    "name": "ipython",
    "version": 3
   },
   "file_extension": ".py",
   "mimetype": "text/x-python",
   "name": "python",
   "nbconvert_exporter": "python",
   "pygments_lexer": "ipython3",
   "version": "3.9.6"
  }
 },
 "nbformat": 4,
 "nbformat_minor": 2
}
